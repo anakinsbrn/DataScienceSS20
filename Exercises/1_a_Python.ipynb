{
 "cells": [
  {
   "cell_type": "markdown",
   "metadata": {},
   "source": [
    "# Exercise I: Your own Python module "
   ]
  },
  {
   "cell_type": "code",
   "execution_count": 1,
   "metadata": {},
   "outputs": [
    {
     "name": "stdout",
     "output_type": "stream",
     "text": [
      "running in Colab: False\n"
     ]
    }
   ],
   "source": [
    "#check if notebook runs in colab\n",
    "import sys\n",
    "IN_COLAB = 'google.colab' in sys.modules\n",
    "print('running in Colab:',IN_COLAB)\n",
    "path='..'\n",
    "if IN_COLAB:\n",
    "  #in colab, we need to clone the data from the repo\n",
    "  !git clone https://github.com/keuperj/DataScienceSS20.git\n",
    "  path='DataScienceSS20'\n",
    "  import sys\n",
    "  sys.path.append(path+'/Exercises/')"
   ]
  },
  {
   "cell_type": "markdown",
   "metadata": {},
   "source": [
    "Write your own python module (choose a name) with the following properties:\n",
    "\n",
    "1. start new python file for the module\n",
    "2. define a class ***ListKeeper*** with the following properties and API:\n",
    "   1. ***Listkeeper*** strores named lists (hint: use dictionaries) \n",
    "   2. it initializes with a list named *example*: [1,2,3,4,5]\n",
    "   3. ``show()`` returns all list names\n",
    "   4. ``add(name, list)`` adds a new list\n",
    "   5. ``delete(name)`` deletes list\n",
    "   6. ``sort(name)`` returns the sorted list *name*\n",
    "   7. ``append(name, list)`` appends *list* to *name* \n",
    "3. add comments and documentation to your class\n",
    "4. Import your module in this notebook\n",
    "5. write tests to check the functionality of your class "
   ]
  },
  {
   "cell_type": "code",
   "execution_count": 6,
   "metadata": {},
   "outputs": [],
   "source": [
    "class ListKeeper:\n",
    "    \"\"\"\n",
    "    There are no private variables in Python, but vars starting with __ are a bit protected \n",
    "    by via renaming through the interpreter (not a security feature!)\n",
    "    \"\"\"\n",
    "    __listDict = dict()\n",
    "    \n",
    "    \"\"\"\n",
    "    __init__()\n",
    "    Constructor\n",
    "    \"\"\"\n",
    "    def __init__(self):\n",
    "        self.__listDict['example'] = [1,2,3,4,5]\n",
    "    \n",
    "    \"\"\"\n",
    "    show()\n",
    "    returns the names (= keys) of all dict items \n",
    "    \"\"\"\n",
    "    def show(self):\n",
    "        return self.__listDict.keys()\n",
    "    \n",
    "    \"\"\"\n",
    "    add()\n",
    "    adds new list to dict\n",
    "    \"\"\"\n",
    "    def add(self,name, newList):\n",
    "        self.__listDict[name] = newList\n",
    "    \n",
    "    \"\"\"\n",
    "    delete()\n",
    "    deletes list from dict\n",
    "    \"\"\"\n",
    "    def delete(self, name):\n",
    "        self.__listDict.pop(name)\n",
    "    \n",
    "    \"\"\"\n",
    "    sort()\n",
    "    sorts list of given name\n",
    "    \"\"\"\n",
    "    def sort(self, name):\n",
    "        self.__listDict[name].sort()\n",
    "    \n",
    "    \"\"\"\n",
    "    append()\n",
    "    appends list to existing entry\n",
    "    \"\"\"\n",
    "    def append(self, name, appList):\n",
    "        self.__listDict[name].extend(appList)\n",
    "        \n",
    "    \"\"\"\n",
    "    __getitem__()\n",
    "    overwrites the [] operator\n",
    "    \"\"\"    \n",
    "    def __getitem__(self, key):\n",
    "        return self.__listDict[key]\n",
    "        "
   ]
  },
  {
   "cell_type": "code",
   "execution_count": null,
   "metadata": {},
   "outputs": [],
   "source": []
  }
 ],
 "metadata": {
  "kernelspec": {
   "display_name": "Python 3",
   "language": "python",
   "name": "python3"
  },
  "language_info": {
   "codemirror_mode": {
    "name": "ipython",
    "version": 3
   },
   "file_extension": ".py",
   "mimetype": "text/x-python",
   "name": "python",
   "nbconvert_exporter": "python",
   "pygments_lexer": "ipython3",
   "version": "3.7.6"
  }
 },
 "nbformat": 4,
 "nbformat_minor": 4
}
