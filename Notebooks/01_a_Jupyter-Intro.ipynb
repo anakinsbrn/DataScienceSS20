{
  "nbformat": 4,
  "nbformat_minor": 0,
  "metadata": {
    "kernelspec": {
      "display_name": "Python 3",
      "language": "python",
      "name": "python3"
    },
    "language_info": {
      "codemirror_mode": {
        "name": "ipython",
        "version": 3
      },
      "file_extension": ".py",
      "mimetype": "text/x-python",
      "name": "python",
      "nbconvert_exporter": "python",
      "pygments_lexer": "ipython3",
      "version": "3.7.1"
    },
    "colab": {
      "name": "01_a_Jupyter-Intro.ipynb",
      "provenance": []
    }
  },
  "cells": [
    {
      "cell_type": "markdown",
      "metadata": {
        "id": "_AlVJqrKh5JE",
        "colab_type": "text"
      },
      "source": [
        "# Jupyter Lab - Web IDE \n",
        "* By Janis Keuper\n",
        "* Copyright: Creative Commons Attribution 3.0 Unported License. To view a copy of this license, visit http://creativecommons.org/licenses/by/3.0/"
      ]
    },
    {
      "cell_type": "code",
      "metadata": {
        "id": "anWv9f7Mh5JF",
        "colab_type": "code",
        "colab": {
          "base_uri": "https://localhost:8080/",
          "height": 153
        },
        "outputId": "37f6e1e9-6077-43ab-c9d2-7e26911bf7cf"
      },
      "source": [
        "#check if notebook runs in colab\n",
        "import sys\n",
        "IN_COLAB = 'google.colab' in sys.modules\n",
        "print('running in Colab:',IN_COLAB)\n",
        "path='..'\n",
        "if IN_COLAB:\n",
        "  #in colab, we need to clone the data from the repo\n",
        "  !git clone https://github.com/keuperj/DataScienceSS20.git\n",
        "  path='DataScienceSS20'"
      ],
      "execution_count": 1,
      "outputs": [
        {
          "output_type": "stream",
          "text": [
            "running in Colab: True\n",
            "Cloning into 'DataScienceSS20'...\n",
            "remote: Enumerating objects: 147, done.\u001b[K\n",
            "remote: Counting objects: 100% (147/147), done.\u001b[K\n",
            "remote: Compressing objects: 100% (104/104), done.\u001b[K\n",
            "remote: Total 147 (delta 64), reused 104 (delta 35), pack-reused 0\u001b[K\n",
            "Receiving objects: 100% (147/147), 26.34 MiB | 21.93 MiB/s, done.\n",
            "Resolving deltas: 100% (64/64), done.\n"
          ],
          "name": "stdout"
        }
      ]
    },
    {
      "cell_type": "code",
      "metadata": {
        "id": "yYiilHxoh5JL",
        "colab_type": "code",
        "colab": {
          "base_uri": "https://localhost:8080/",
          "height": 34
        },
        "outputId": "aa623ab1-026b-4e97-ada2-a7bd5a312b84"
      },
      "source": [
        "print(\"hello\")"
      ],
      "execution_count": 2,
      "outputs": [
        {
          "output_type": "stream",
          "text": [
            "hello\n"
          ],
          "name": "stdout"
        }
      ]
    },
    {
      "cell_type": "markdown",
      "metadata": {
        "id": "nTKsUGcWh5JQ",
        "colab_type": "text"
      },
      "source": [
        "## Live Demo \n",
        "* Files\n",
        "* Notebooks\n",
        "* Terminal\n",
        "* Kernels\n",
        "* Keyboard Shortcuts\n",
        "* Save and Export"
      ]
    },
    {
      "cell_type": "markdown",
      "metadata": {
        "id": "XWJhX7ueh5JR",
        "colab_type": "text"
      },
      "source": [
        "## Cells\n",
        "* Code vs Markup\n",
        "* Execute Cells"
      ]
    },
    {
      "cell_type": "markdown",
      "metadata": {
        "id": "yRXr6O-6h5JS",
        "colab_type": "text"
      },
      "source": [
        "## Markup Cells"
      ]
    },
    {
      "cell_type": "markdown",
      "metadata": {
        "id": "AFT8I3loh5JT",
        "colab_type": "text"
      },
      "source": [
        "### Jupyter Markup\n"
      ]
    },
    {
      "cell_type": "markdown",
      "metadata": {
        "id": "VkD4T-Woh5JT",
        "colab_type": "text"
      },
      "source": [
        "#### Headings\n",
        "``` \n",
        "# Heading 1\n",
        "# Heading 2\n",
        "## Heading 2.1\n",
        "## Heading 2.2\n",
        "```\n"
      ]
    },
    {
      "cell_type": "markdown",
      "metadata": {
        "id": "o3LgIKPNh5JU",
        "colab_type": "text"
      },
      "source": [
        "#### Lists\n",
        "* a\n",
        "* bullet point list"
      ]
    },
    {
      "cell_type": "markdown",
      "metadata": {
        "id": "gl2D5crsh5JV",
        "colab_type": "text"
      },
      "source": [
        "1. numbered\n",
        "2. list\n",
        "3. is possible"
      ]
    },
    {
      "cell_type": "markdown",
      "metadata": {
        "id": "kiOZcSXth5JV",
        "colab_type": "text"
      },
      "source": [
        "#### Text Formating\n",
        "* *Italic*\n",
        "* **blod**\n",
        "* ***bold and italic***"
      ]
    },
    {
      "cell_type": "markdown",
      "metadata": {
        "id": "OSIBJb_eh5JW",
        "colab_type": "text"
      },
      "source": [
        "#### Tables\n",
        "| This | is   |\n",
        "|------|------|\n",
        "|   a  | table|"
      ]
    },
    {
      "cell_type": "markdown",
      "metadata": {
        "id": "tF9zy-5Zh5JW",
        "colab_type": "text"
      },
      "source": [
        "#### Latex Formulars \n",
        "You can write formulars in text, like $e^{i\\pi} + 1 = 0$.\n",
        "\n",
        "Or block equations\n",
        "\n",
        "$$e^x=\\sum_{i=0}^\\infty \\frac{1}{i!}x^i$$"
      ]
    },
    {
      "cell_type": "markdown",
      "metadata": {
        "id": "_PuJzd5fh5JX",
        "colab_type": "text"
      },
      "source": [
        "#### Links\n",
        "Add links, like one to more information on latex [link](https://www.overleaf.com/learn/latex/Free_online_introduction_to_LaTeX_(part_1))"
      ]
    },
    {
      "cell_type": "markdown",
      "metadata": {
        "id": "UtcR__m-h5JX",
        "colab_type": "text"
      },
      "source": [
        "#### HTML\n",
        "or simply write HTML code:\n",
        "\n",
        "<H3> HTML test</H3>\n",
        "<img src=\"https://github.com/anakinsbrn/DataScienceSS20/blob/master/Notebooks/IMG/jupyter_logo.png?raw=1\" width=300>"
      ]
    },
    {
      "cell_type": "markdown",
      "metadata": {
        "id": "kKbWD4elh5JY",
        "colab_type": "text"
      },
      "source": [
        "#### Source Code\n",
        "Python:\n",
        "```python\n",
        "print \"Hello World\"\n",
        "```\n",
        "\n",
        "Java Script\n",
        "```javascript\n",
        "console.log(\"Hello World\")\n",
        "```\n"
      ]
    },
    {
      "cell_type": "markdown",
      "metadata": {
        "id": "hP9goG8Ph5JY",
        "colab_type": "text"
      },
      "source": [
        "## Code Cells"
      ]
    },
    {
      "cell_type": "code",
      "metadata": {
        "id": "1jdflFL0h5JZ",
        "colab_type": "code",
        "colab": {
          "base_uri": "https://localhost:8080/",
          "height": 34
        },
        "outputId": "33f0b1b0-3a17-422d-ecb3-4a2b26dac8f3"
      },
      "source": [
        "print (\"this is python code\")"
      ],
      "execution_count": 3,
      "outputs": [
        {
          "output_type": "stream",
          "text": [
            "this is python code\n"
          ],
          "name": "stdout"
        }
      ]
    },
    {
      "cell_type": "markdown",
      "metadata": {
        "id": "CzWVGrRrh5Jb",
        "colab_type": "text"
      },
      "source": [
        "#### Autocompletion "
      ]
    },
    {
      "cell_type": "code",
      "metadata": {
        "id": "0FAqiPIrh5Jc",
        "colab_type": "code",
        "colab": {}
      },
      "source": [
        "a = \"This is a STRING\""
      ],
      "execution_count": 0,
      "outputs": []
    },
    {
      "cell_type": "code",
      "metadata": {
        "id": "m-EU_4fuh5Je",
        "colab_type": "code",
        "colab": {}
      },
      "source": [
        "# press tab to see the available methods \n",
        "a.l"
      ],
      "execution_count": 0,
      "outputs": []
    },
    {
      "cell_type": "markdown",
      "metadata": {
        "id": "3BsfjBk1h5Jg",
        "colab_type": "text"
      },
      "source": [
        "#### API Documentation and Help"
      ]
    },
    {
      "cell_type": "code",
      "metadata": {
        "id": "Lhw2y_Rwh5Jh",
        "colab_type": "code",
        "colab": {}
      },
      "source": [
        "# add '?' in front of call\n"
      ],
      "execution_count": 0,
      "outputs": []
    },
    {
      "cell_type": "markdown",
      "metadata": {
        "id": "deqgflkgh5Jj",
        "colab_type": "text"
      },
      "source": [
        "## System Calls\n",
        "Call OS cmd-line tools via the \"!\" opperator:"
      ]
    },
    {
      "cell_type": "code",
      "metadata": {
        "id": "yIuObpuyh5Jj",
        "colab_type": "code",
        "colab": {}
      },
      "source": [
        "!ls -lha"
      ],
      "execution_count": 0,
      "outputs": []
    },
    {
      "cell_type": "markdown",
      "metadata": {
        "id": "2fSQr-wQh5Jl",
        "colab_type": "text"
      },
      "source": [
        "## Magic-Commands\n",
        "Jupyter has build in, so-called \"magic commands\" (full list [https://ipython.readthedocs.io/en/stable/interactive/magics.html](here))"
      ]
    },
    {
      "cell_type": "code",
      "metadata": {
        "id": "-Kxwq3Uvh5Jl",
        "colab_type": "code",
        "colab": {}
      },
      "source": [
        "#single runtime \n",
        "%time \n",
        "for i in range(1000):\n",
        "    pass"
      ],
      "execution_count": 0,
      "outputs": []
    },
    {
      "cell_type": "code",
      "metadata": {
        "id": "zIkPlsTGh5Jm",
        "colab_type": "code",
        "colab": {}
      },
      "source": [
        "#runtime test\n",
        "%timeit a=34*56"
      ],
      "execution_count": 0,
      "outputs": []
    },
    {
      "cell_type": "code",
      "metadata": {
        "id": "BPLHri4Fh5Jo",
        "colab_type": "code",
        "colab": {}
      },
      "source": [
        "# load the autoreload extension\n",
        "%load_ext autoreload\n",
        "# Set extension to reload modules every time before executing code\n",
        "%autoreload 2\n"
      ],
      "execution_count": 0,
      "outputs": []
    },
    {
      "cell_type": "code",
      "metadata": {
        "id": "O9CpMXh4h5Jp",
        "colab_type": "code",
        "colab": {}
      },
      "source": [
        "a=5\n",
        "f=\"test\"\n",
        "# Outputs a list of all interactive variables in your environment\n",
        "%who_ls"
      ],
      "execution_count": 0,
      "outputs": []
    },
    {
      "cell_type": "code",
      "metadata": {
        "id": "q2s06Mjeh5Jr",
        "colab_type": "code",
        "colab": {}
      },
      "source": [
        "# Reduces the output to interactive variables of type \"function\"\n",
        "%who_ls function"
      ],
      "execution_count": 0,
      "outputs": []
    },
    {
      "cell_type": "code",
      "metadata": {
        "id": "QgekY441h5Js",
        "colab_type": "code",
        "colab": {}
      },
      "source": [
        ""
      ],
      "execution_count": 0,
      "outputs": []
    }
  ]
}